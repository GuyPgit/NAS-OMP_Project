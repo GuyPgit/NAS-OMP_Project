{
 "cells": [
  {
   "cell_type": "code",
   "execution_count": 1,
   "metadata": {},
   "outputs": [
    {
     "name": "stdout",
     "output_type": "stream",
     "text": [
      "   ===========================================\n",
      "   =      NAS PARALLEL BENCHMARKS 4.1        =\n",
      "   =      OpenMP Versions                    =\n",
      "   =      C++                                =\n",
      "   ===========================================\n",
      "\n",
      "cd LU; make CLASS=A\n",
      "make[1]: Entering directory '/home/u1ac0f5875ac3fb97b35b88ea34e5b24/Multicore_Processors_and_Embedded_Systems/NAS-OMP_Project/NPB-OMP-GPU/LU'\n",
      "make[2]: Entering directory '/home/u1ac0f5875ac3fb97b35b88ea34e5b24/Multicore_Processors_and_Embedded_Systems/NAS-OMP_Project/NPB-OMP-GPU/sys'\n",
      "make[2]: Nothing to be done for 'all'.\n",
      "make[2]: Leaving directory '/home/u1ac0f5875ac3fb97b35b88ea34e5b24/Multicore_Processors_and_Embedded_Systems/NAS-OMP_Project/NPB-OMP-GPU/sys'\n",
      "../sys/setparams lu A\n",
      "icpx -std=c++14 -Ofast -qopenmp -xSAPPHIRERAPIDS -ipo -fopenmp-targets=spir64   -o ../bin/lu.A lu.o ../common/c_print_results.o ../common/c_timers.o ../common/c_wtime.o \n",
      "make[1]: Leaving directory '/home/u1ac0f5875ac3fb97b35b88ea34e5b24/Multicore_Processors_and_Embedded_Systems/NAS-OMP_Project/NPB-OMP-GPU/LU'\n"
     ]
    }
   ],
   "source": [
    "import os\n",
    "\n",
    "# set env variables\n",
    "os.environ[\"OMP_NUM_THREADS\"] = \"56\" # there are 56x2x2 = 224 threads available in the CPU\n",
    "os.environ[\"NUM_GPUS_USED\"] = \"1\" # set how many gpus we wish to utilize. should be 1-4, only used when use_gpu = True\n",
    "os.environ[\"OMP_TARGET_OFFLOAD\"] = \"MANDATORY\" # controls the program behavior when offloading a target region, only relevant when use_gpu = True\n",
    "os.environ[\"IGC_ForceOCLSIMDWidth\"] = \"16\" # maximize SIMD usage in the GPU\n",
    "# os.environ[\"LIBOMPTARGET_PLUGIN_PROFILE\"] = \"T,usec\" # enables basic plugin profiling and displays the result when program finishes. can be used to get HtD and DtH timings\n",
    "# os.environ[\"LIBOMPTARGET_DEBUG\"] = \"1\" # controls whether debugging information will be displayed from the offload runtime\n",
    "\n",
    "# set variables\n",
    "RUN_CLASS = \"A\" # should be in S,W,A-D\n",
    "VTUNE_OR_ADV_RUN = 0 # should be 0 or in 3-8\n",
    "USE_TIMER = 0 # should be 0 or 1\n",
    "use_gpu = True # should be False for CPU ONLY, and True for usage of GPU offloading\n",
    "\n",
    "# set constants\n",
    "USER = os.environ.get(\"USER\")\n",
    "RUN_DIR = \"NPB-OMP-GPU\" if use_gpu else \"NPB-OMP\"\n",
    "RUN_PATH = f\"/home/{USER}/Multicore_Processors_and_Embedded_Systems/NAS-OMP_Project/{RUN_DIR}\"\n",
    "EXE_PATH = f\"./bin/lu.{RUN_CLASS}\"\n",
    "TIMER_FLAG_FILE = \"timer.flag\"\n",
    "\n",
    "VTUNE_CPU_HOTSPOTS_DIR = \"./vtune_hotspots\"\n",
    "ADV_VEC_DIR = \"./adv_vectorization\"\n",
    "ADV_OFFLOAD_DIR = \"./adv_offload_model\"\n",
    "VTUNE_GPU_OFFLOAD_DIR = \"./vtune_gpu_offload_unopt\"\n",
    "VTUNE_GPU_HOTSPOTS_DIR = \"./vtune_gpu_hotspots_unopt\"\n",
    "ADV_GPU_ROOFLINE_DIR = \"./adv_gpu_roofline_opt\"\n",
    "\n",
    "# navigate to path from which we compile the code\n",
    "os.chdir(f\"{RUN_PATH}\")\n",
    "\n",
    "# set timer flag file\n",
    "if USE_TIMER == 0:\n",
    "    if os.path.isfile(f\"{TIMER_FLAG_FILE}\"):\n",
    "        os.system(f\"mv {TIMER_FLAG_FILE} {TIMER_FLAG_FILE}.off\")\n",
    "elif USE_TIMER == 1:\n",
    "    if os.path.isfile(f\"{TIMER_FLAG_FILE}.off\"):\n",
    "        os.system(f\"mv {TIMER_FLAG_FILE}.off {TIMER_FLAG_FILE}\")\n",
    "\n",
    "# compile code\n",
    "os.system(f\"make lu CLASS={RUN_CLASS}\")\n",
    "\n",
    "# execute code\n",
    "if VTUNE_OR_ADV_RUN == 0:\n",
    "    os.system(f\"./bin/lu.{RUN_CLASS}\")\n",
    "\n",
    "# analysis with vtune and advisor\n",
    "if VTUNE_OR_ADV_RUN == 3:\n",
    "    os.system(f\"rm -r {VTUNE_CPU_HOTSPOTS_DIR}\")\n",
    "    os.system(f\"vtune -collect hotspots -knob sampling-mode=hw --result-dir={VTUNE_CPU_HOTSPOTS_DIR} -- {EXE_PATH}\")\n",
    "elif VTUNE_OR_ADV_RUN == 4:\n",
    "    os.system(f\"rm -r {ADV_VEC_DIR}\")\n",
    "    os.system(f\"advisor --collect=survey --project-dir={ADV_VEC_DIR} -- {EXE_PATH}\")\n",
    "elif VTUNE_OR_ADV_RUN == 5:\n",
    "    os.system(f\"rm -r {ADV_OFFLOAD_DIR}\")\n",
    "    os.system(f\"advisor --collect=offload --config=gen12_tgl --project-dir={ADV_OFFLOAD_DIR} -- {EXE_PATH}\")\n",
    "elif VTUNE_OR_ADV_RUN == 6 and use_gpu:\n",
    "    os.system(f\"rm -r {VTUNE_GPU_OFFLOAD_DIR}\")\n",
    "    os.system(f\"vtune -collect gpu-offload  --result-dir={VTUNE_GPU_OFFLOAD_DIR} -- {EXE_PATH}\")\n",
    "elif VTUNE_OR_ADV_RUN == 7 and use_gpu:\n",
    "    os.system(f\"rm -r {VTUNE_GPU_HOTSPOTS_DIR}\")\n",
    "    os.system(f\"vtune -collect gpu-hotspots --result-dir={VTUNE_GPU_HOTSPOTS_DIR} -- {EXE_PATH}\")\n",
    "elif VTUNE_OR_ADV_RUN == 8 and use_gpu:\n",
    "    os.system(f\"rm -r {ADV_GPU_ROOFLINE_DIR}\")\n",
    "    os.system(f\"advisor --collect=roofline --profile-gpu --search-dir src:r=src --project-dir={ADV_GPU_ROOFLINE_DIR} -- {EXE_PATH}\")"
   ]
  },
  {
   "cell_type": "code",
   "execution_count": null,
   "metadata": {},
   "outputs": [],
   "source": []
  }
 ],
 "metadata": {
  "kernelspec": {
   "display_name": "Python 3 (ipykernel)",
   "language": "python",
   "name": "python3"
  },
  "language_info": {
   "codemirror_mode": {
    "name": "ipython",
    "version": 3
   },
   "file_extension": ".py",
   "mimetype": "text/x-python",
   "name": "python",
   "nbconvert_exporter": "python",
   "pygments_lexer": "ipython3",
   "version": "3.11.5"
  }
 },
 "nbformat": 4,
 "nbformat_minor": 4
}
